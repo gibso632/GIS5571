{
 "cells": [
  {
   "cell_type": "code",
   "execution_count": 1,
   "metadata": {},
   "outputs": [],
   "source": [
    "import requests\n",
    "from arcpy import env\n",
    "import json\n",
    "import zipfile"
   ]
  },
  {
   "cell_type": "code",
   "execution_count": 12,
   "metadata": {},
   "outputs": [],
   "source": [
    "# Establish folder path\n",
    "\n",
    "folder_path = r'C:\\\\Users\\\\15612\\\\Documents\\\\GIS-5571\\\\Lab2\\\\'"
   ]
  },
  {
   "cell_type": "code",
   "execution_count": 2,
   "metadata": {},
   "outputs": [],
   "source": [
    "# Establish a variable for the ArcGIS Pro project and the ArcGIS Pro map\n",
    "\n",
    "project = arcpy.mp.ArcGISProject(\"CURRENT\")\n",
    "m = project.listMaps(\"Map\")[0]"
   ]
  },
  {
   "cell_type": "code",
   "execution_count": 5,
   "metadata": {},
   "outputs": [
    {
     "data": {
      "text/html": [
       "<div class='gpresult'><h2>Messages</h2><div id='messages' data-messages='[\"Start Time: Tuesday, October 24, 2023 4:22:08 PM\",\"Succeeded at Tuesday, October 24, 2023 4:22:08 PM (Elapsed Time: 0.62 seconds)\"]' data-show='true'><div id = 'default' /></div></div>"
      ],
      "text/plain": [
       "<Result 'C:\\\\Users\\\\15612\\\\Documents\\\\GIS-5571\\\\Lab2\\\\Lab2_Part2.gdb'>"
      ]
     },
     "execution_count": 5,
     "metadata": {},
     "output_type": "execute_result"
    }
   ],
   "source": [
    "# Create a file geodatabase\n",
    "\n",
    "arcpy.management.CreateFileGDB(\n",
    "    folder_path,\n",
    "    'Lab2_Part2'\n",
    ")"
   ]
  },
  {
   "cell_type": "code",
   "execution_count": 13,
   "metadata": {},
   "outputs": [],
   "source": [
    "# Set the workspace to the created geodatabase and a spatial reference\n",
    "\n",
    "GDB_path = folder_path + 'Lab2_Part2.gdb'\n",
    "env.workspace = GDB_path\n",
    "\n",
    "spatial_ref = arcpy.SpatialReference(4326)"
   ]
  },
  {
   "cell_type": "code",
   "execution_count": 14,
   "metadata": {},
   "outputs": [
    {
     "data": {
      "text/html": [
       "<div class='gpresult'><h2>Messages</h2><div id='messages' data-messages='[\"Start Time: Thursday, October 26, 2023 3:40:53 PM\",\"Succeeded at Thursday, October 26, 2023 3:40:54 PM (Elapsed Time: 0.87 seconds)\"]' data-show='true'><div id = 'default' /></div></div>"
      ],
      "text/plain": [
       "<Result 'C:\\\\\\\\Users\\\\\\\\15612\\\\\\\\Documents\\\\\\\\GIS-5571\\\\\\\\Lab2\\\\\\\\Lab2_Part2.gdb\\\\Doras_Home'>"
      ]
     },
     "execution_count": 14,
     "metadata": {},
     "output_type": "execute_result"
    }
   ],
   "source": [
    "# Create the point for Dora's house\n",
    "\n",
    "dora = arcpy.PointGeometry(\n",
    "    arcpy.Point(-92.148796, 44.127985),\n",
    "    spatial_reference=spatial_ref\n",
    ")\n",
    "\n",
    "arcpy.management.CopyFeatures(\n",
    "    dora,\n",
    "    'Doras_Home'\n",
    ")"
   ]
  },
  {
   "cell_type": "markdown",
   "metadata": {},
   "source": [
    "# Don't forget to remove your Google Places API Key!!!!"
   ]
  },
  {
   "cell_type": "code",
   "execution_count": 15,
   "metadata": {},
   "outputs": [
    {
     "name": "stdout",
     "output_type": "stream",
     "text": [
      "{'html_attributions': [], 'results': [{'business_status': 'OPERATIONAL', 'formatted_address': '19206 MN-74, St Charles, MN 55972, United States', 'geometry': {'location': {'lat': 44.0543872, 'lng': -92.0448256}, 'viewport': {'northeast': {'lat': 44.05581302989273, 'lng': -92.04338092010728}, 'southwest': {'lat': 44.05311337010728, 'lng': -92.04608057989272}}}, 'icon': 'https://maps.gstatic.com/mapfiles/place_api/icons/v1/png_71/park-71.png', 'icon_background_color': '#4DB546', 'icon_mask_base_uri': 'https://maps.gstatic.com/mapfiles/place_api/icons/v2/tree_pinlet', 'name': 'North Picnic area', 'photos': [{'height': 3024, 'html_attributions': ['<a href=\"https://maps.google.com/maps/contrib/112937281817958526101\">Casen Raehtz</a>'], 'photo_reference': 'AcJnMuFGxijDYD0SMO5QuDKX6147p-QyvjLpzFQsIq2tAXi251nN3W0PqeZ4CkgtBd-tNfSft5-IqmtHS_rowb-x55LLGj11DijHIfVFFlXeA0r5pxL_186G-DaMbhuzKxzkdF1Hxap6MsDf7SecwInqtz4Il9tD6JzTLAHCMafFV6uRnrNs', 'width': 4032}], 'place_id': 'ChIJTeSfRg-X-YcRZM-pODlD2_U', 'plus_code': {'compound_code': '3X34+Q3 St Charles, Minnesota', 'global_code': '86P93X34+Q3'}, 'rating': 4.5, 'reference': 'ChIJTeSfRg-X-YcRZM-pODlD2_U', 'types': ['park', 'point_of_interest', 'establishment'], 'user_ratings_total': 6}], 'status': 'OK'}\n"
     ]
    }
   ],
   "source": [
    "# Gather GeoJSON for North Picnic Area in Whitewater State Park\n",
    "\n",
    "north_picnic = requests.get('https://maps.googleapis.com/maps/api/place/textsearch/json?query=Whitewater%20State%20Park%20North%20Picnic%20Area&inputtype=textquery&fields=fomatted_address%2Cgeometry&key=*API_KEY*')\n",
    "Npicnic_json = north_picnic.json()\n",
    "print(Npicnic_json)"
   ]
  },
  {
   "cell_type": "code",
   "execution_count": 16,
   "metadata": {},
   "outputs": [
    {
     "data": {
      "text/html": [
       "<div class='gpresult'><h2>Messages</h2><div id='messages' data-messages='[\"Start Time: Thursday, October 26, 2023 3:41:02 PM\",\"Succeeded at Thursday, October 26, 2023 3:41:03 PM (Elapsed Time: 0.85 seconds)\"]' data-show='true'><div id = 'default' /></div></div>"
      ],
      "text/plain": [
       "<Result 'C:\\\\\\\\Users\\\\\\\\15612\\\\\\\\Documents\\\\\\\\GIS-5571\\\\\\\\Lab2\\\\\\\\Lab2_Part2.gdb\\\\Picnic_Area'>"
      ]
     },
     "execution_count": 16,
     "metadata": {},
     "output_type": "execute_result"
    }
   ],
   "source": [
    "# Extract the latitude and longitudes from the GeoJSON\n",
    "\n",
    "lat = Npicnic_json['results'][0]['geometry']['location']['lat']\n",
    "lng = Npicnic_json['results'][0]['geometry']['location']['lng']\n",
    "\n",
    "#print(lat)\n",
    "#print(lng)\n",
    "\n",
    "picnic_area = arcpy.PointGeometry(\n",
    "    arcpy.Point(lng,lat),\n",
    "    spatial_reference = spatial_ref\n",
    ")\n",
    "\n",
    "arcpy.management.CopyFeatures(\n",
    "    picnic_area,\n",
    "    'Picnic_Area'\n",
    ")"
   ]
  },
  {
   "cell_type": "code",
   "execution_count": 63,
   "metadata": {},
   "outputs": [
    {
     "name": "stderr",
     "output_type": "stream",
     "text": [
      "C:\\Program Files\\ArcGIS\\Pro\\bin\\Python\\envs\\arcgispro-py3\\lib\\site-packages\\urllib3\\connectionpool.py:1045: InsecureRequestWarning: Unverified HTTPS request is being made to host 'gisdata.mn.gov'. Adding certificate verification is strongly advised. See: https://urllib3.readthedocs.io/en/1.26.x/advanced-usage.html#ssl-warnings\n",
      "  warnings.warn(\n"
     ]
    },
    {
     "name": "stdout",
     "output_type": "stream",
     "text": [
      "{'help': 'https://gisdata.mn.gov/api/3/action/help_show?name=package_show', 'success': True, 'result': {'license_title': 'License not specified', 'maintainer': None, 'relationships_as_object': [], 'private': False, 'maintainer_email': None, 'num_tags': 1, 'id': 'df5e5f96-7347-4aae-8b97-8cf3cd352d68', 'metadata_created': '2022-02-16T09:03:08.539540', 'metadata_modified': '2022-09-01T08:09:22.951823', 'author': None, 'author_email': None, 'state': 'active', 'version': None, 'creator_user_id': '61044ca7-ee56-4019-aef7-f7c3b5e06e3a', 'type': 'dataset', 'resources': [{'mimetype': None, 'cache_url': None, 'hash': '', 'description': '', 'gdrsResGuid': '', 'cache_last_updated': None, 'url': 'https://resources.gisdata.mn.gov/pub/gdrs/data/pub/us_mn_state_dnr/biota_landcover_nlcd_mn_2019/metadata/preview.jpg', 'name': 'Static Preview - Sample Image', 'format': 'JPEG', 'package_id': 'df5e5f96-7347-4aae-8b97-8cf3cd352d68', 'created': '2022-09-01T08:09:23.243123', 'state': 'active', 'mimetype_inner': None, 'last_modified': None, 'position': 0, 'revision_id': 'ea55175f-daf5-442a-a973-a3c313a59384', 'url_type': None, 'id': 'b0be6d2f-36fb-4296-b35f-d484797d723a', 'resource_type': 'preview', 'size': None}, {'mimetype': None, 'cache_url': None, 'hash': '', 'description': '', 'gdrsResGuid': '{a4c3ce53-ad96-4354-8eac-447ef1d95038}', 'cache_last_updated': None, 'url': 'https://www.mrlc.gov/data', 'name': 'USGS NLCD Download page', 'format': 'HTML', 'package_id': 'df5e5f96-7347-4aae-8b97-8cf3cd352d68', 'created': '2022-09-01T08:09:23.243133', 'state': 'active', 'mimetype_inner': None, 'last_modified': None, 'position': 1, 'revision_id': 'ea55175f-daf5-442a-a973-a3c313a59384', 'url_type': None, 'id': '022bf5d2-3244-4b31-8ee7-9a8d83b587db', 'resource_type': 'external', 'size': None}, {'mimetype': None, 'cache_url': None, 'hash': '', 'description': '', 'gdrsResGuid': '{a14a235a-94bf-4b53-9c89-9c89224793ed}', 'cache_last_updated': None, 'url': 'https://resources.gisdata.mn.gov/pub/gdrs/data/pub/us_mn_state_dnr/biota_landcover_nlcd_mn_2019/tif_biota_landcover_nlcd_mn_2019.zip', 'name': 'TIFF Raster', 'format': 'tif', 'package_id': 'df5e5f96-7347-4aae-8b97-8cf3cd352d68', 'created': '2022-09-01T08:09:23.243137', 'state': 'active', 'mimetype_inner': None, 'last_modified': None, 'position': 2, 'revision_id': 'ea55175f-daf5-442a-a973-a3c313a59384', 'url_type': None, 'id': '10178dad-9c20-4d9e-b1ee-e645a693b652', 'resource_type': 'tif', 'size': None}, {'mimetype': None, 'cache_url': None, 'hash': '', 'description': '', 'gdrsResGuid': 'None', 'cache_last_updated': None, 'url': 'https://resources.gisdata.mn.gov/pub/gdrs/data/pub/us_mn_state_dnr/biota_landcover_nlcd_mn_2019/metadata/metadata.html', 'name': 'Full Metadata Record', 'format': 'HTML', 'package_id': 'df5e5f96-7347-4aae-8b97-8cf3cd352d68', 'created': '2022-09-01T08:09:23.243141', 'state': 'active', 'mimetype_inner': None, 'last_modified': None, 'position': 3, 'revision_id': 'ea55175f-daf5-442a-a973-a3c313a59384', 'url_type': None, 'id': '4a1601fc-564f-4376-b038-a521c0351011', 'resource_type': 'metadata', 'size': None}], 'num_resources': 4, 'tags': [{'vocabulary_id': None, 'state': 'active', 'display_name': 'us', 'id': '353f3b73-8c3d-43ab-951f-623d90a34ec6', 'name': 'us'}], 'groups': [{'display_name': 'Biota', 'description': 'Flora and/or fauna in natural environment. Examples: wildlife, vegetation, biological sciences, ecology, wilderness, sealife, wetlands, habitat', 'image_display_url': 'https://gisdata.mn.gov/categoryIcons/biota.png', 'title': 'Biota', 'id': 'a9767fbf-2a66-4750-8cae-1e0271297d64', 'name': 'biota'}], 'license_id': 'notspecified', 'relationships_as_subject': [], 'organization': {'description': \"Working with citizens to conserve and manage the state's natural resources.\", 'created': '2013-11-27T08:45:38.519857', 'title': 'Natural Resources Department', 'name': 'us-mn-state-dnr', 'is_organization': True, 'state': 'active', 'image_url': 'https://gisdata.mn.gov/agencyLogos/mnLogo.jpg', 'revision_id': 'd4bec708-0afd-4421-a810-89383f5b1786', 'type': 'organization', 'id': '0c5bf59b-2a39-402d-bf12-bbf11cf3f201', 'approval_status': 'approved'}, 'name': 'biota-landcover-nlcd-mn-2019', 'isopen': False, 'url': None, 'notes': 'This Minnesota NLCD layer is derived from the full NLCD dataset. The national raster is clipped and projected to UTM Zone 15N. The 2019 NLCD used updated methodology and provided updates for all previously released years, so this data should not be compared directly to the other NLCD data published to the Commons. There is a change detection raster available in this resource that provides an overview of the change since 2001. For the original dataset in Albers Equal Area Conic or land cover for prior years processed with the new methods, refer to the NLCD webpage: https://www.mrlc.gov/data<br/><br/>The U.S. Geological Survey (USGS), in partnership with several federal agencies, has developed and released five National Land Cover Database (NLCD) products over the past two decades: NLCD 1992, 2001, 2006, 2011, and 2016. The 2016 release saw landcover created for additional years of 2003, 2008, and 2013. These products provide spatially explicit and reliable information on the Nation’s land cover and land cover change. To continue the legacy of NLCD and further establish a long-term monitoring capability for the Nation’s land resources, the USGS has designed a new generation of NLCD products named NLCD 2019. The NLCD 2019 design aims to provide innovative, consistent, and robust methodologies for production of a multi-temporal land cover and land cover change database from 2001 to 2019 at 2–3-year intervals. Comprehensive research was conducted and resulted in developed strategies for NLCD 2019: continued integration between impervious surface and all landcover products with impervious surface being directly mapped as developed classes in the landcover, a streamlined compositing process for assembling and preprocessing based on Landsat imagery and geospatial ancillary datasets; a multi-source integrated training data development and decision-tree based land cover classifications; a temporally, spectrally, and spatially integrated land cover change analysis strategy; a hierarchical theme-based post-classification and integration protocol for generating land cover and change products; a continuous fields biophysical parameters modeling method; and an automated scripted operational system for the NLCD 2019 production. The performance of the developed strategies and methods were tested in twenty composite referenced areas throughout the conterminous U.S. An overall accuracy assessment from the 2016 publication give a 91% overall landcover accuracy, with the developed classes also showing a 91% accuracy in overall developed. Results from this study confirm the robustness of this comprehensive and highly automated procedure for NLCD 2019 operational mapping.', 'owner_org': '0c5bf59b-2a39-402d-bf12-bbf11cf3f201', 'extras': [{'key': 'dsAccessConst', 'value': \"None. Please see 'Distribution Info' for details.\"}, {'key': 'dsCurrentRef', 'value': 'ground condition'}, {'key': 'dsMetadataUrl', 'value': 'https://resources.gisdata.mn.gov/pub/gdrs/data/pub/us_mn_state_dnr/biota_landcover_nlcd_mn_2019/metadata/metadata.html'}, {'key': 'dsModifiedDate', 'value': '2022-09-01 02:26:57'}, {'key': 'dsOriginator', 'value': 'U.S. Geological Survey'}, {'key': 'dsPurpose', 'value': 'The goal of this project is to provide the Nation with complete, current, and consistent public domain information on its land use and land cover.'}, {'key': 'gdrsDsGuid', 'value': '{6202fbc0-0b47-47fa-83ee-fa0b2ac72166}'}, {'key': 'spatial', 'value': '{\"type\":\"Polygon\",\"coordinates\":[[[-97.38, 43.39],[-97.38, 49.34], [-89.62, 49.34], [-89.62, 43.39], [-97.38, 43.39]]]}'}], 'title': 'NLCD 2019 Land Cover, Minnesota', 'revision_id': '79ffad2f-6b87-4601-811d-8dd1b172d0a8'}}\n"
     ]
    }
   ],
   "source": [
    "# Gather land cover data from the Minnesota Geospatial Commons API\n",
    "\n",
    "request = requests.get(\n",
    "    'https://gisdata.mn.gov/api/3/action/package_show?id=biota-landcover-nlcd-mn-2019',\n",
    "    verify = False\n",
    ")\n",
    "    \n",
    "LC_gj = request.json()\n",
    "print(LC_gj)"
   ]
  },
  {
   "cell_type": "code",
   "execution_count": 64,
   "metadata": {},
   "outputs": [],
   "source": [
    "# Write the zipfile with the land cover data to a local folder\n",
    "\n",
    "LC_zip_link = LC_gj['result']['resources'][2]['url']\n",
    "#print(land_cover_zip)\n",
    "\n",
    "LC_zip = requests.get(LC_zip_link)\n",
    "\n",
    "with open(r'C:\\Users\\15612\\Documents\\GIS-5571\\Lab2\\land_cover.zip','wb') as LC_file:\n",
    "    LC_file.write(LC_zip.content)\n",
    "        \n",
    "with zipfile.ZipFile(r\"C:\\Users\\15612\\Documents\\GIS-5571\\Lab2\\land_cover.zip\") as LC_zip:\n",
    "    LC_zip.extractall(r'C:\\Users\\15612\\Documents\\GIS-5571\\Lab2\\land_cover')"
   ]
  },
  {
   "cell_type": "code",
   "execution_count": 56,
   "metadata": {},
   "outputs": [
    {
     "data": {
      "text/plain": [
       "<arcpy._mp.Layer object at 0x00000297BCB648E0>"
      ]
     },
     "execution_count": 56,
     "metadata": {},
     "output_type": "execute_result"
    }
   ],
   "source": [
    "# Add land cover data from local file path\n",
    "\n",
    "m.addDataFromPath(r\"C:\\Users\\15612\\Documents\\GIS-5571\\Lab2\\land_cover\\NLCD_2019_Land_Cover.tif\")"
   ]
  },
  {
   "cell_type": "code",
   "execution_count": 65,
   "metadata": {},
   "outputs": [
    {
     "name": "stderr",
     "output_type": "stream",
     "text": [
      "C:\\Program Files\\ArcGIS\\Pro\\bin\\Python\\envs\\arcgispro-py3\\lib\\site-packages\\urllib3\\connectionpool.py:1045: InsecureRequestWarning: Unverified HTTPS request is being made to host 'gisdata.mn.gov'. Adding certificate verification is strongly advised. See: https://urllib3.readthedocs.io/en/1.26.x/advanced-usage.html#ssl-warnings\n",
      "  warnings.warn(\n"
     ]
    },
    {
     "name": "stdout",
     "output_type": "stream",
     "text": [
      "{'help': 'https://gisdata.mn.gov/api/3/action/help_show?name=package_show', 'success': True, 'result': {'license_title': 'License not specified', 'maintainer': None, 'relationships_as_object': [], 'private': False, 'maintainer_email': None, 'num_tags': 3, 'id': '8b8d727b-2d63-4f92-8aca-40752006f7af', 'metadata_created': '2014-07-21T14:39:36.374865', 'metadata_modified': '2022-09-01T08:08:42.496971', 'author': None, 'author_email': None, 'state': 'active', 'version': None, 'creator_user_id': None, 'type': 'dataset', 'resources': [{'mimetype': None, 'cache_url': None, 'hash': '', 'description': '', 'gdrsResGuid': '', 'cache_last_updated': None, 'url': 'https://resources.gisdata.mn.gov/pub/gdrs/data/pub/us_mn_state_dnr/elev_30m_digital_elevation_model/preview/preview.jpg', 'name': 'Static Preview - Sample Image', 'format': 'JPEG', 'package_id': '8b8d727b-2d63-4f92-8aca-40752006f7af', 'created': '2022-09-01T08:08:42.793263', 'state': 'active', 'mimetype_inner': None, 'last_modified': None, 'position': 0, 'revision_id': '09b81b25-9b39-4269-b2b9-52a45e7c6c54', 'url_type': None, 'id': '7fdb843e-ce61-4793-b7f4-6c49091ba8b0', 'resource_type': 'preview', 'size': None}, {'mimetype': None, 'cache_url': None, 'hash': '', 'description': '', 'gdrsResGuid': '{25751b00-706c-4131-a38e-b8fb4d6da50b}', 'cache_last_updated': None, 'url': 'https://resources.gisdata.mn.gov/pub/gdrs/data/pub/us_mn_state_dnr/elev_30m_digital_elevation_model/fgdb_elev_30m_digital_elevation_model.zip', 'name': 'ESRI File Geodatabase', 'format': 'fgdb', 'package_id': '8b8d727b-2d63-4f92-8aca-40752006f7af', 'created': '2022-09-01T08:08:42.793275', 'state': 'active', 'mimetype_inner': None, 'last_modified': None, 'position': 1, 'revision_id': '09b81b25-9b39-4269-b2b9-52a45e7c6c54', 'url_type': None, 'id': '936f7e34-4661-497b-bf99-a42be79bec28', 'resource_type': 'fgdb', 'size': None}, {'mimetype': None, 'cache_url': None, 'hash': '', 'description': '', 'gdrsResGuid': 'None', 'cache_last_updated': None, 'url': 'https://resources.gisdata.mn.gov/pub/gdrs/data/pub/us_mn_state_dnr/elev_30m_digital_elevation_model/metadata/metadata.html', 'name': 'Full Metadata Record', 'format': 'HTML', 'package_id': '8b8d727b-2d63-4f92-8aca-40752006f7af', 'created': '2022-09-01T08:08:42.793280', 'state': 'active', 'mimetype_inner': None, 'last_modified': None, 'position': 2, 'revision_id': '09b81b25-9b39-4269-b2b9-52a45e7c6c54', 'url_type': None, 'id': 'f0394f68-29b8-4794-beaa-d9f2ef40c83b', 'resource_type': 'metadata', 'size': None}], 'num_resources': 3, 'tags': [{'vocabulary_id': None, 'state': 'active', 'display_name': 'elevation', 'id': '2e3a5422-0440-421c-a72c-4baf683cd8e0', 'name': 'elevation'}, {'vocabulary_id': None, 'state': 'active', 'display_name': 'model', 'id': '7c481116-9bce-4cd8-b527-1da69df3577a', 'name': 'model'}, {'vocabulary_id': None, 'state': 'active', 'display_name': 'slope', 'id': '027da6a9-ea76-4065-a0a5-370991cb042e', 'name': 'slope'}], 'groups': [{'display_name': 'Elevation', 'description': 'Height above or below sea level. Examples: altitude, bathymetry, digital elevation models, slope, derived products', 'image_display_url': 'https://gisdata.mn.gov/categoryIcons/elevation.png', 'title': 'Elevation', 'id': '1ec111ae-6fc9-4c3a-92d8-f026e7e94ab9', 'name': 'elevation'}], 'license_id': 'notspecified', 'relationships_as_subject': [], 'organization': {'description': \"Working with citizens to conserve and manage the state's natural resources.\", 'created': '2013-11-27T08:45:38.519857', 'title': 'Natural Resources Department', 'name': 'us-mn-state-dnr', 'is_organization': True, 'state': 'active', 'image_url': 'https://gisdata.mn.gov/agencyLogos/mnLogo.jpg', 'revision_id': 'd4bec708-0afd-4421-a810-89383f5b1786', 'type': 'organization', 'id': '0c5bf59b-2a39-402d-bf12-bbf11cf3f201', 'approval_status': 'approved'}, 'name': 'elev-30m-digital-elevation-model', 'isopen': False, 'url': None, 'notes': 'This 30 Meter Digital Elevation Model (DEM) is a copy of the USGS 1:24,000 scale Level 2 DEMs for the State.<br/><br/>There are three quadrangles known be be Level 1 DEM data: Town Line Lake (q1925), Grand Portage (q1261)  and Grand Portage OE N (q1161).', 'owner_org': '0c5bf59b-2a39-402d-bf12-bbf11cf3f201', 'extras': [{'key': 'dsAccessConst', 'value': 'None'}, {'key': 'dsCurrentRef', 'value': 'Current to USGS 1:24k DEM product release'}, {'key': 'dsMetadataUrl', 'value': 'https://resources.gisdata.mn.gov/pub/gdrs/data/pub/us_mn_state_dnr/elev_30m_digital_elevation_model/metadata/metadata.html'}, {'key': 'dsModifiedDate', 'value': '2022-09-01 01:45:38'}, {'key': 'dsOriginator', 'value': 'U.S. Geological Survey'}, {'key': 'dsPurpose', 'value': 'Landscape analysis, hillshade generation for cartographic products, and slope determination'}, {'key': 'gdrsDsGuid', 'value': '{abbe247b-1375-47f4-92bd-97a152d8d732}'}, {'key': 'spatial', 'value': '{\"type\":\"Polygon\",\"coordinates\":[[[-96.832879, 43.435263],[-96.832879, 49.348291], [-89.396784, 49.348291], [-89.396784, 43.435263], [-96.832879, 43.435263]]]}'}], 'title': 'Minnesota Digital Elevation Model - 30 Meter Resolution', 'revision_id': '7514547d-a108-429a-a30e-1bf74c65aea1'}}\n"
     ]
    }
   ],
   "source": [
    "# Gather DEM data from Minnesota Geospatial Commons API\n",
    "\n",
    "request = requests.get(\n",
    "    'https://gisdata.mn.gov/api/3/action/package_show?id=elev-30m-digital-elevation-model',\n",
    "    verify = False\n",
    ")\n",
    "    \n",
    "DEM_gj = request.json()\n",
    "print(DEM_gj)"
   ]
  },
  {
   "cell_type": "code",
   "execution_count": 66,
   "metadata": {},
   "outputs": [
    {
     "name": "stdout",
     "output_type": "stream",
     "text": [
      "https://resources.gisdata.mn.gov/pub/gdrs/data/pub/us_mn_state_dnr/elev_30m_digital_elevation_model/fgdb_elev_30m_digital_elevation_model.zip\n"
     ]
    }
   ],
   "source": [
    "# Write the contents of the zipfile to a folder to acquire DEM\n",
    "\n",
    "DEM_zip_link = DEM_gj['result']['resources'][1]['url']\n",
    "print(DEM_zip_link)\n",
    "\n",
    "DEM_zip = requests.get(DEM_zip_link)\n",
    "\n",
    "with open(r'C:\\Users\\15612\\Documents\\GIS-5571\\Lab2\\DEM.zip','wb') as DEM_file:\n",
    "    DEM_file.write(DEM_zip.content)\n",
    "        \n",
    "with zipfile.ZipFile(r\"C:\\Users\\15612\\Documents\\GIS-5571\\Lab2\\DEM.zip\") as DEM_zip:\n",
    "    DEM_zip.extractall(r'C:\\Users\\15612\\Documents\\GIS-5571\\Lab2\\DEM')"
   ]
  },
  {
   "cell_type": "code",
   "execution_count": 68,
   "metadata": {},
   "outputs": [
    {
     "data": {
      "text/plain": [
       "<arcpy._mp.Layer object at 0x00000297BDF56EE0>"
      ]
     },
     "execution_count": 68,
     "metadata": {},
     "output_type": "execute_result"
    }
   ],
   "source": [
    "# Add DEM data from local file\n",
    "\n",
    "m.addDataFromPath(r\"C:\\Users\\15612\\Documents\\GIS-5571\\Lab2\\DEM\\elev_30m_digital_elevation_model.gdb\\digital_elevation_model_30m\")"
   ]
  },
  {
   "cell_type": "code",
   "execution_count": 19,
   "metadata": {},
   "outputs": [
    {
     "ename": "RuntimeError",
     "evalue": "ERROR 010240: Could not save raster dataset to C:\\Users\\15612\\Documents\\GIS-5571\\Lab2\\DEM\\elev_30m_digital_elevation_model.gdb\\DEM_Slope.tif with output format FGDBR.",
     "output_type": "error",
     "traceback": [
      "\u001b[0;31m---------------------------------------------------------------------------\u001b[0m\n\u001b[0;31mRuntimeError\u001b[0m                              Traceback (most recent call last)",
      "In  \u001b[0;34m[19]\u001b[0m:\nLine \u001b[0;34m6\u001b[0m:     DEM_Slope.save(\u001b[33mr\u001b[39;49;00m\u001b[33m'\u001b[39;49;00m\u001b[33mC:\u001b[39;49;00m\u001b[33m\\\u001b[39;49;00m\u001b[33mUsers\u001b[39;49;00m\u001b[33m\\\u001b[39;49;00m\u001b[33m15612\u001b[39;49;00m\u001b[33m\\\u001b[39;49;00m\u001b[33mDocuments\u001b[39;49;00m\u001b[33m\\\u001b[39;49;00m\u001b[33mGIS-5571\u001b[39;49;00m\u001b[33m\\\u001b[39;49;00m\u001b[33mLab2\u001b[39;49;00m\u001b[33m\\\u001b[39;49;00m\u001b[33mDEM\u001b[39;49;00m\u001b[33m\\\u001b[39;49;00m\u001b[33melev_30m_digital_elevation_model.gdb\u001b[39;49;00m\u001b[33m\\\u001b[39;49;00m\u001b[33mDEM_Slope.tif\u001b[39;49;00m\u001b[33m'\u001b[39;49;00m)\n",
      "\u001b[0;31mRuntimeError\u001b[0m: ERROR 010240: Could not save raster dataset to C:\\Users\\15612\\Documents\\GIS-5571\\Lab2\\DEM\\elev_30m_digital_elevation_model.gdb\\DEM_Slope.tif with output format FGDBR.\n\u001b[0;31m---------------------------------------------------------------------------\u001b[0m"
     ]
    }
   ],
   "source": [
    "# Create slope from DEM\n",
    "\n",
    "DEM_Slope = arcpy.sa.SurfaceParameters(\n",
    "    r'C:\\Users\\15612\\Documents\\GIS-5571\\Lab2\\DEM\\elev_30m_digital_elevation_model.gdb\\digital_elevation_model_30m',\n",
    "    'SLOPE',\n",
    ")"
   ]
  },
  {
   "cell_type": "code",
   "execution_count": 7,
   "metadata": {},
   "outputs": [],
   "source": [
    "# Reclassify values to different weights for different land cover types\n",
    "\n",
    "for lyr in m.listLayers():\n",
    "    if lyr.name == \"NLCD_2019_Land_Cover.tif\":\n",
    "        farm_and_water_layer = arcpy.sa.Reclassify(\n",
    "        lyr,\n",
    "        'Value',\n",
    "        arcpy.sa.RemapRange([[11,12,2],[21,24,1],[31,31,1],[41,43,1],[52,52,1],[71,71,1],[81,82,3],[90,90,2],[95,95,2]])\n",
    ")\n",
    "        \n",
    "farm_and_water_layer.save(r'C:\\Users\\15612\\Documents\\GIS-5571\\Lab2\\farm_and_water_layer.tif')"
   ]
  },
  {
   "cell_type": "code",
   "execution_count": 23,
   "metadata": {},
   "outputs": [],
   "source": [
    "# Reclassify slope to different weighted values based on severity of slope angle\n",
    "\n",
    "for lyr in m.listLayers():\n",
    "    if lyr.name == \"DEM_Slope\":\n",
    "        steep_slope = arcpy.sa.Reclassify(\n",
    "        lyr,\n",
    "        'Value',\n",
    "        arcpy.sa.RemapRange([[0,20,1],[20,50,2],[50,80.2473,3]])\n",
    ")\n",
    "        \n",
    "steep_slope.save(r'C:\\Users\\15612\\Documents\\GIS-5571\\Lab2\\steep_slope.tif')"
   ]
  },
  {
   "cell_type": "code",
   "execution_count": 6,
   "metadata": {},
   "outputs": [],
   "source": [
    "# Set variables equal to the steep_slope and farm_and_water_layer rasters\n",
    "\n",
    "slope_layer = r'C:\\Users\\15612\\Documents\\GIS-5571\\Lab2\\steep_slope.tif'\n",
    "farm_and_water = r'C:\\Users\\15612\\Documents\\GIS-5571\\Lab2\\farm_and_water_layer.tif'"
   ]
  },
  {
   "cell_type": "code",
   "execution_count": 25,
   "metadata": {},
   "outputs": [],
   "source": [
    "# Create different rasters numbered 1-4 based on weights of 0.2, 0.4, 0.6, and 0.8\n",
    "\n",
    "rast_num = 0\n",
    "for num in range(1,5):\n",
    "    rast_num += 1\n",
    "    slope_import = round(num*0.2, 1)\n",
    "    farm_import = round(1-num*0.2, 1)\n",
    "    slope_rast = arcpy.sa.Raster(slope_layer) * slope_import\n",
    "    farm_rast = arcpy.sa.Raster(farm_and_water) * farm_import\n",
    "    slope_rast.save(r'C:\\Users\\15612\\Documents\\GIS-5571\\Lab2\\slope_rast_' + str(rast_num) + '.tif')\n",
    "    farm_rast.save(r'C:\\Users\\15612\\Documents\\GIS-5571\\Lab2\\farm_rast_' + str(rast_num) + '.tif')"
   ]
  },
  {
   "cell_type": "code",
   "execution_count": 7,
   "metadata": {},
   "outputs": [],
   "source": [
    "# Originally I was going to make the weights [0.2,0.8] and [0.4,0.6] for both rasters, but I feel I should add a raster where they both have equal weights\n",
    "\n",
    "# To make the maximum value equivalent to the other rasters, multiply both by 0.5\n",
    "\n",
    "slope_rast_equal = arcpy.sa.Raster(slope_layer) * 0.5\n",
    "farm_rast_equal = arcpy.sa.Raster(farm_and_water) * 0.5\n",
    "slope_rast_equal.save(r'C:\\Users\\15612\\Documents\\GIS-5571\\Lab2\\slope_rast_equal.tif')\n",
    "farm_rast_equal.save(r'C:\\Users\\15612\\Documents\\GIS-5571\\Lab2\\farm_rast_equal.tif')"
   ]
  },
  {
   "cell_type": "code",
   "execution_count": 26,
   "metadata": {},
   "outputs": [],
   "source": [
    "# Add the rasters to the map\n",
    "\n",
    "for i in range(1,5):\n",
    "    m.addDataFromPath(r'C:\\Users\\15612\\Documents\\GIS-5571\\Lab2\\slope_rast_' + str(i) + '.tif')\n",
    "    m.addDataFromPath(r'C:\\Users\\15612\\Documents\\GIS-5571\\Lab2\\farm_rast_' + str(i) + '.tif')"
   ]
  },
  {
   "cell_type": "code",
   "execution_count": 3,
   "metadata": {},
   "outputs": [],
   "source": [
    "# Create unequal cost surfaces by adding both rasters to each other\n",
    "\n",
    "for i in range(1,5):\n",
    "    cost_surface = arcpy.sa.RasterCalculator(\n",
    "        [r'C:\\Users\\15612\\Documents\\GIS-5571\\Lab2\\slope_rast_' + str(i) + '.tif',r'C:\\Users\\15612\\Documents\\GIS-5571\\Lab2\\farm_rast_' + str(i) + '.tif'],\n",
    "        ['x','y'],\n",
    "        'x + y'\n",
    "    )\n",
    "\n",
    "    cost_surface.save(r'C:\\Users\\15612\\Documents\\GIS-5571\\Lab2\\cost_surface' + str(i) + '.tif')"
   ]
  },
  {
   "cell_type": "code",
   "execution_count": 8,
   "metadata": {},
   "outputs": [],
   "source": [
    "# Create cost where slope and land cover are weighted equally\n",
    "\n",
    "cost_surface_equal = arcpy.sa.RasterCalculator(\n",
    "    [r'C:\\Users\\15612\\Documents\\GIS-5571\\Lab2\\slope_rast_equal.tif',r'C:\\Users\\15612\\Documents\\GIS-5571\\Lab2\\farm_rast_equal.tif'],\n",
    "    ['x','y'],\n",
    "    'x + y'\n",
    ")\n",
    "\n",
    "cost_surface_equal.save(r'C:\\Users\\15612\\Documents\\GIS-5571\\Lab2\\cost_surface_equal.tif')"
   ]
  },
  {
   "cell_type": "code",
   "execution_count": 4,
   "metadata": {},
   "outputs": [],
   "source": [
    "# Add unequal cost surfaces to map\n",
    "\n",
    "for i in range(1,5):\n",
    "    m.addDataFromPath(r'C:\\Users\\15612\\Documents\\GIS-5571\\Lab2\\cost_surface' + str(i) + '.tif')"
   ]
  },
  {
   "cell_type": "code",
   "execution_count": 9,
   "metadata": {},
   "outputs": [
    {
     "data": {
      "text/plain": [
       "<arcpy._mp.Layer object at 0x0000024320E6DFA0>"
      ]
     },
     "execution_count": 9,
     "metadata": {},
     "output_type": "execute_result"
    }
   ],
   "source": [
    "# Add equally weighted cost surface to map\n",
    "\n",
    "m.addDataFromPath(r'C:\\Users\\15612\\Documents\\GIS-5571\\Lab2\\cost_surface_equal.tif')"
   ]
  }
 ],
 "metadata": {
  "kernelspec": {
   "display_name": "ArcGISPro",
   "language": "Python",
   "name": "python3"
  },
  "language_info": {
   "file_extension": ".py",
   "name": "python",
   "version": "3"
  }
 },
 "nbformat": 4,
 "nbformat_minor": 2
}
