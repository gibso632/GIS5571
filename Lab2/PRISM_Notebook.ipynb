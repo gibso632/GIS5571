{
 "cells": [
  {
   "cell_type": "code",
   "execution_count": 28,
   "metadata": {},
   "outputs": [],
   "source": [
    "import requests\n",
    "import zipfile\n",
    "from zipfile import ZipFile\n",
    "import glob\n",
    "import os"
   ]
  },
  {
   "cell_type": "code",
   "execution_count": 29,
   "metadata": {},
   "outputs": [
    {
     "name": "stdout",
     "output_type": "stream",
     "text": [
      "<Response [200]>\n"
     ]
    }
   ],
   "source": [
    "# Create a variable representing the gathered data\n",
    "prism_data = requests.get('https://prism.oregonstate.edu/fetchData.php?type=all_bil&kind=normals&spatial=4km&elem=ppt&temporal=annual')\n",
    "print(prism_data)"
   ]
  },
  {
   "cell_type": "code",
   "execution_count": 30,
   "metadata": {},
   "outputs": [],
   "source": [
    "# Make a local zipfile and write the contents of the zipfile from PRISM to it\n",
    "with open(r'C:/Users/15612/Documents/GIS-5571/Lab2/prism_data.zip','wb') as prism_zip:\n",
    "    prism_zip.write(prism_data.content)"
   ]
  },
  {
   "cell_type": "code",
   "execution_count": 31,
   "metadata": {},
   "outputs": [],
   "source": [
    "# Extract the data from the zipfile to a folder title \"prism_data\"\n",
    "with ZipFile(r'C:/Users/15612/Documents/GIS-5571/Lab2/prism_data.zip') as zipped_file:\n",
    "    zipped_file.extractall(r'C:/Users/15612/Documents/GIS-5571/Lab2/prism_data')"
   ]
  },
  {
   "cell_type": "code",
   "execution_count": 32,
   "metadata": {},
   "outputs": [],
   "source": [
    "# Establish a variable representing the map within ArcGIS Pro\n",
    "project = arcpy.mp.ArcGISProject(\"CURRENT\")\n",
    "m = project.listMaps(\"Map\")[0]"
   ]
  },
  {
   "cell_type": "code",
   "execution_count": 33,
   "metadata": {},
   "outputs": [
    {
     "name": "stdout",
     "output_type": "stream",
     "text": [
      "['C:\\\\Users\\\\15612\\\\Documents\\\\GIS-5571\\\\Lab2\\\\prism_data\\\\PRISM_ppt_30yr_normal_4kmM4_01_bil.bil', 'C:\\\\Users\\\\15612\\\\Documents\\\\GIS-5571\\\\Lab2\\\\prism_data\\\\PRISM_ppt_30yr_normal_4kmM4_02_bil.bil', 'C:\\\\Users\\\\15612\\\\Documents\\\\GIS-5571\\\\Lab2\\\\prism_data\\\\PRISM_ppt_30yr_normal_4kmM4_03_bil.bil', 'C:\\\\Users\\\\15612\\\\Documents\\\\GIS-5571\\\\Lab2\\\\prism_data\\\\PRISM_ppt_30yr_normal_4kmM4_04_bil.bil', 'C:\\\\Users\\\\15612\\\\Documents\\\\GIS-5571\\\\Lab2\\\\prism_data\\\\PRISM_ppt_30yr_normal_4kmM4_05_bil.bil', 'C:\\\\Users\\\\15612\\\\Documents\\\\GIS-5571\\\\Lab2\\\\prism_data\\\\PRISM_ppt_30yr_normal_4kmM4_06_bil.bil', 'C:\\\\Users\\\\15612\\\\Documents\\\\GIS-5571\\\\Lab2\\\\prism_data\\\\PRISM_ppt_30yr_normal_4kmM4_07_bil.bil', 'C:\\\\Users\\\\15612\\\\Documents\\\\GIS-5571\\\\Lab2\\\\prism_data\\\\PRISM_ppt_30yr_normal_4kmM4_08_bil.bil', 'C:\\\\Users\\\\15612\\\\Documents\\\\GIS-5571\\\\Lab2\\\\prism_data\\\\PRISM_ppt_30yr_normal_4kmM4_09_bil.bil', 'C:\\\\Users\\\\15612\\\\Documents\\\\GIS-5571\\\\Lab2\\\\prism_data\\\\PRISM_ppt_30yr_normal_4kmM4_10_bil.bil', 'C:\\\\Users\\\\15612\\\\Documents\\\\GIS-5571\\\\Lab2\\\\prism_data\\\\PRISM_ppt_30yr_normal_4kmM4_11_bil.bil', 'C:\\\\Users\\\\15612\\\\Documents\\\\GIS-5571\\\\Lab2\\\\prism_data\\\\PRISM_ppt_30yr_normal_4kmM4_12_bil.bil', 'C:\\\\Users\\\\15612\\\\Documents\\\\GIS-5571\\\\Lab2\\\\prism_data\\\\PRISM_ppt_30yr_normal_4kmM4_annual_bil.bil']\n"
     ]
    }
   ],
   "source": [
    "# Create a list of all files within the \"prism_data\" folder\n",
    "file_list = glob.glob(os.path.join(r'C:\\Users\\15612\\Documents\\GIS-5571\\Lab2\\prism_data','*'))\n",
    "bil_file_list = []\n",
    "for file in file_list:\n",
    "    if file[-4:] == \".bil\":\n",
    "        bil_file_list.append(file)\n",
    "        \n",
    "print(bil_file_list)"
   ]
  },
  {
   "cell_type": "code",
   "execution_count": 34,
   "metadata": {},
   "outputs": [
    {
     "data": {
      "text/html": [
       "<div class='gpresult'><h2>Messages</h2><div id='messages' data-messages='[\"Start Time: Saturday, October 21, 2023 1:32:58 PM\",\"Successfully converted: C:\\\\Users\\\\15612\\\\Documents\\\\GIS-5571\\\\Lab2\\\\prism_data\\\\PRISM_ppt_30yr_normal_4kmM4_01_bil.bil To C:\\\\Users\\\\15612\\\\Documents\\\\GIS-5571\\\\Lab2\\\\prism_data\\\\PRISM_ppt_30yr_normal_4kmM4_01_bil.tif\",\"Successfully converted: C:\\\\Users\\\\15612\\\\Documents\\\\GIS-5571\\\\Lab2\\\\prism_data\\\\PRISM_ppt_30yr_normal_4kmM4_02_bil.bil To C:\\\\Users\\\\15612\\\\Documents\\\\GIS-5571\\\\Lab2\\\\prism_data\\\\PRISM_ppt_30yr_normal_4kmM4_02_bil.tif\",\"Successfully converted: C:\\\\Users\\\\15612\\\\Documents\\\\GIS-5571\\\\Lab2\\\\prism_data\\\\PRISM_ppt_30yr_normal_4kmM4_03_bil.bil To C:\\\\Users\\\\15612\\\\Documents\\\\GIS-5571\\\\Lab2\\\\prism_data\\\\PRISM_ppt_30yr_normal_4kmM4_03_bil.tif\",\"Successfully converted: C:\\\\Users\\\\15612\\\\Documents\\\\GIS-5571\\\\Lab2\\\\prism_data\\\\PRISM_ppt_30yr_normal_4kmM4_04_bil.bil To C:\\\\Users\\\\15612\\\\Documents\\\\GIS-5571\\\\Lab2\\\\prism_data\\\\PRISM_ppt_30yr_normal_4kmM4_04_bil.tif\",\"Successfully converted: C:\\\\Users\\\\15612\\\\Documents\\\\GIS-5571\\\\Lab2\\\\prism_data\\\\PRISM_ppt_30yr_normal_4kmM4_05_bil.bil To C:\\\\Users\\\\15612\\\\Documents\\\\GIS-5571\\\\Lab2\\\\prism_data\\\\PRISM_ppt_30yr_normal_4kmM4_05_bil.tif\",\"Successfully converted: C:\\\\Users\\\\15612\\\\Documents\\\\GIS-5571\\\\Lab2\\\\prism_data\\\\PRISM_ppt_30yr_normal_4kmM4_06_bil.bil To C:\\\\Users\\\\15612\\\\Documents\\\\GIS-5571\\\\Lab2\\\\prism_data\\\\PRISM_ppt_30yr_normal_4kmM4_06_bil.tif\",\"Successfully converted: C:\\\\Users\\\\15612\\\\Documents\\\\GIS-5571\\\\Lab2\\\\prism_data\\\\PRISM_ppt_30yr_normal_4kmM4_07_bil.bil To C:\\\\Users\\\\15612\\\\Documents\\\\GIS-5571\\\\Lab2\\\\prism_data\\\\PRISM_ppt_30yr_normal_4kmM4_07_bil.tif\",\"Successfully converted: C:\\\\Users\\\\15612\\\\Documents\\\\GIS-5571\\\\Lab2\\\\prism_data\\\\PRISM_ppt_30yr_normal_4kmM4_08_bil.bil To C:\\\\Users\\\\15612\\\\Documents\\\\GIS-5571\\\\Lab2\\\\prism_data\\\\PRISM_ppt_30yr_normal_4kmM4_08_bil.tif\",\"Successfully converted: C:\\\\Users\\\\15612\\\\Documents\\\\GIS-5571\\\\Lab2\\\\prism_data\\\\PRISM_ppt_30yr_normal_4kmM4_09_bil.bil To C:\\\\Users\\\\15612\\\\Documents\\\\GIS-5571\\\\Lab2\\\\prism_data\\\\PRISM_ppt_30yr_normal_4kmM4_09_bil.tif\",\"Successfully converted: C:\\\\Users\\\\15612\\\\Documents\\\\GIS-5571\\\\Lab2\\\\prism_data\\\\PRISM_ppt_30yr_normal_4kmM4_10_bil.bil To C:\\\\Users\\\\15612\\\\Documents\\\\GIS-5571\\\\Lab2\\\\prism_data\\\\PRISM_ppt_30yr_normal_4kmM4_10_bil.tif\",\"Successfully converted: C:\\\\Users\\\\15612\\\\Documents\\\\GIS-5571\\\\Lab2\\\\prism_data\\\\PRISM_ppt_30yr_normal_4kmM4_11_bil.bil To C:\\\\Users\\\\15612\\\\Documents\\\\GIS-5571\\\\Lab2\\\\prism_data\\\\PRISM_ppt_30yr_normal_4kmM4_11_bil.tif\",\"Successfully converted: C:\\\\Users\\\\15612\\\\Documents\\\\GIS-5571\\\\Lab2\\\\prism_data\\\\PRISM_ppt_30yr_normal_4kmM4_12_bil.bil To C:\\\\Users\\\\15612\\\\Documents\\\\GIS-5571\\\\Lab2\\\\prism_data\\\\PRISM_ppt_30yr_normal_4kmM4_12_bil.tif\",\"Successfully converted: C:\\\\Users\\\\15612\\\\Documents\\\\GIS-5571\\\\Lab2\\\\prism_data\\\\PRISM_ppt_30yr_normal_4kmM4_annual_bil.bil To C:\\\\Users\\\\15612\\\\Documents\\\\GIS-5571\\\\Lab2\\\\prism_data\\\\PRISM_ppt_30yr_normal_4kmM4_annual_bil.tif\",\"Succeeded at Saturday, October 21, 2023 1:33:04 PM (Elapsed Time: 6.31 seconds)\"]' data-show='true'><div id = 'default' /></div></div>"
      ],
      "text/plain": [
       "<Result ''>"
      ]
     },
     "execution_count": 34,
     "metadata": {},
     "output_type": "execute_result"
    }
   ],
   "source": [
    "# Convert the .bil files to .tif files\n",
    "arcpy.conversion.RasterToOtherFormat(\n",
    "    bil_file_list,\n",
    "    r'C:\\Users\\15612\\Documents\\GIS-5571\\Lab2\\prism_data',\n",
    "    'TIFF'\n",
    ")"
   ]
  },
  {
   "cell_type": "code",
   "execution_count": 35,
   "metadata": {},
   "outputs": [
    {
     "name": "stdout",
     "output_type": "stream",
     "text": [
      "['C:\\\\Users\\\\15612\\\\Documents\\\\GIS-5571\\\\Lab2\\\\prism_data\\\\PRISM_ppt_30yr_normal_4kmM4_01_bil.tif', 'C:\\\\Users\\\\15612\\\\Documents\\\\GIS-5571\\\\Lab2\\\\prism_data\\\\PRISM_ppt_30yr_normal_4kmM4_02_bil.tif', 'C:\\\\Users\\\\15612\\\\Documents\\\\GIS-5571\\\\Lab2\\\\prism_data\\\\PRISM_ppt_30yr_normal_4kmM4_03_bil.tif', 'C:\\\\Users\\\\15612\\\\Documents\\\\GIS-5571\\\\Lab2\\\\prism_data\\\\PRISM_ppt_30yr_normal_4kmM4_04_bil.tif', 'C:\\\\Users\\\\15612\\\\Documents\\\\GIS-5571\\\\Lab2\\\\prism_data\\\\PRISM_ppt_30yr_normal_4kmM4_05_bil.tif', 'C:\\\\Users\\\\15612\\\\Documents\\\\GIS-5571\\\\Lab2\\\\prism_data\\\\PRISM_ppt_30yr_normal_4kmM4_06_bil.tif', 'C:\\\\Users\\\\15612\\\\Documents\\\\GIS-5571\\\\Lab2\\\\prism_data\\\\PRISM_ppt_30yr_normal_4kmM4_07_bil.tif', 'C:\\\\Users\\\\15612\\\\Documents\\\\GIS-5571\\\\Lab2\\\\prism_data\\\\PRISM_ppt_30yr_normal_4kmM4_08_bil.tif', 'C:\\\\Users\\\\15612\\\\Documents\\\\GIS-5571\\\\Lab2\\\\prism_data\\\\PRISM_ppt_30yr_normal_4kmM4_09_bil.tif', 'C:\\\\Users\\\\15612\\\\Documents\\\\GIS-5571\\\\Lab2\\\\prism_data\\\\PRISM_ppt_30yr_normal_4kmM4_10_bil.tif', 'C:\\\\Users\\\\15612\\\\Documents\\\\GIS-5571\\\\Lab2\\\\prism_data\\\\PRISM_ppt_30yr_normal_4kmM4_11_bil.tif', 'C:\\\\Users\\\\15612\\\\Documents\\\\GIS-5571\\\\Lab2\\\\prism_data\\\\PRISM_ppt_30yr_normal_4kmM4_12_bil.tif', 'C:\\\\Users\\\\15612\\\\Documents\\\\GIS-5571\\\\Lab2\\\\prism_data\\\\PRISM_ppt_30yr_normal_4kmM4_annual_bil.tif']\n"
     ]
    }
   ],
   "source": [
    "# Create a list of the newly created .tif files\n",
    "prism_file_list = glob.glob(os.path.join(r'C:\\Users\\15612\\Documents\\GIS-5571\\Lab2\\prism_data','*'))\n",
    "tiff_file_list = []\n",
    "for tiff in prism_file_list:\n",
    "    if tiff[-4:] == '.tif':\n",
    "        tiff_file_list.append(tiff)\n",
    "print(tiff_file_list)"
   ]
  },
  {
   "cell_type": "code",
   "execution_count": 36,
   "metadata": {},
   "outputs": [],
   "source": [
    "# Add tif files to map in ArcGIS Pro\n",
    "for file in tiff_file_list:\n",
    "    m.addDataFromPath(file)"
   ]
  },
  {
   "cell_type": "code",
   "execution_count": 37,
   "metadata": {},
   "outputs": [
    {
     "name": "stdout",
     "output_type": "stream",
     "text": [
      "[<arcpy._mp.Layer object at 0x00000208C3585820>, <arcpy._mp.Layer object at 0x00000208C35852E0>, <arcpy._mp.Layer object at 0x00000208C3585D60>, <arcpy._mp.Layer object at 0x00000208C3585FD0>, <arcpy._mp.Layer object at 0x00000208C3585B80>, <arcpy._mp.Layer object at 0x00000208C3585B20>, <arcpy._mp.Layer object at 0x00000208C3585040>, <arcpy._mp.Layer object at 0x00000208C3585C10>, <arcpy._mp.Layer object at 0x00000208C35855B0>, <arcpy._mp.Layer object at 0x00000208C35856A0>, <arcpy._mp.Layer object at 0x00000208C3585220>, <arcpy._mp.Layer object at 0x00000208C3585490>, <arcpy._mp.Layer object at 0x00000208C3585BB0>]\n"
     ]
    }
   ],
   "source": [
    "# Create a list of .tif layers in the ArcGIS Pro project\n",
    "layer_list_part13 = m.listLayers()\n",
    "tiff_layer_list = []\n",
    "for layer in layer_list_part13:\n",
    "    if layer.name[-4:] == '.tif':\n",
    "        tiff_layer_list.append(layer)\n",
    "print(tiff_layer_list)"
   ]
  },
  {
   "cell_type": "code",
   "execution_count": 38,
   "metadata": {},
   "outputs": [
    {
     "data": {
      "text/html": [
       "<div class='gpresult'><h2>Messages</h2><div id='messages' data-messages='[\"Start Time: Saturday, October 21, 2023 1:33:05 PM\",\"Succeeded at Saturday, October 21, 2023 1:33:05 PM (Elapsed Time: 0.11 seconds)\"]' data-show='true'><div id = 'default' /></div></div>"
      ],
      "text/plain": [
       "<Result 'C:\\\\Users\\\\15612\\\\Documents\\\\GIS-5571\\\\Lab2\\\\Lab2BIL.gdb'>"
      ]
     },
     "execution_count": 38,
     "metadata": {},
     "output_type": "execute_result"
    }
   ],
   "source": [
    "# Create a file geodatabase\n",
    "arcpy.management.CreateFileGDB(\n",
    "    r'C:\\Users\\15612\\Documents\\GIS-5571\\Lab2',\n",
    "    'Lab2BIL.gdb'\n",
    ")"
   ]
  },
  {
   "cell_type": "code",
   "execution_count": 39,
   "metadata": {},
   "outputs": [
    {
     "data": {
      "text/html": [
       "<div class='gpresult'><h2>Messages</h2><div id='messages' data-messages='[\"Start Time: Saturday, October 21, 2023 1:33:05 PM\",\"Succeeded at Saturday, October 21, 2023 1:33:06 PM (Elapsed Time: 1.23 seconds)\"]' data-show='true'><div id = 'default' /></div></div>"
      ],
      "text/plain": [
       "<Result 'C:\\\\Users\\\\15612\\\\Documents\\\\GIS-5571\\\\Lab2\\\\Lab2BIL.gdb\\\\PRISM_Mosaic'>"
      ]
     },
     "execution_count": 39,
     "metadata": {},
     "output_type": "execute_result"
    }
   ],
   "source": [
    "# Create a mosaic dataset within the newly created geodatabase\n",
    "GDB_path = r\"C:\\Users\\15612\\Documents\\GIS-5571\\Lab2\\Lab2BIL.gdb\"\n",
    "spatial_ref = arcpy.SpatialReference(4269)\n",
    "arcpy.management.CreateMosaicDataset(\n",
    "    GDB_path,\n",
    "    'PRISM_Mosaic',\n",
    "    spatial_ref\n",
    ")"
   ]
  },
  {
   "cell_type": "code",
   "execution_count": 40,
   "metadata": {},
   "outputs": [
    {
     "data": {
      "text/html": [
       "<div class='gpresult'><h2>Messages</h2><div id='messages' data-messages='[\"Start Time: Saturday, October 21, 2023 1:33:06 PM\",\"2023-10-21T13:33:07.310: Loading raster datasets\",\"2023-10-21T13:33:07.348: Completed crawling 13 data source items. Added 13 mosaic dataset items.\",\"2023-10-21T13:33:07.349: Synchronizing crawled data source items\",\"2023-10-21T13:33:07.353: Synchronizing items associated with raster type instance &#39;Raster Dataset&#39; [ID: 1].\",\"2023-10-21T13:33:07.355: Distributing mosaic dataset operation across 4 parallel instances on the specified host: [LAPTOP-CH3R5DT8].\",\"2023-10-21T13:33:14.231: Estimating raster statistics for mosaic dataset.\",\"2023-10-21T13:33:14.257: Completed synchronization: 13 items selected, 13 items synchronized.\",\"2023-10-21T13:33:14.258: Processing duplicate mosaic dataset items\",\"2023-10-21T13:33:14.263: Updated 0 existing duplicate items. Removed 0 duplicate mosaic dataset items.\",\"2023-10-21T13:33:14.305: Computing cell size levels\",\"2023-10-21T13:33:14.305: Computing unique cell size values\",\"2023-10-21T13:33:14.321: Computing maximum cell size values\",\"2023-10-21T13:33:14.322: Computing minimum cell size values\",\"2023-10-21T13:33:14.323: Updating visibility values of selected items\",\"2023-10-21T13:33:14.554: Computing maximum cell size for mosaic dataset\",\"2023-10-21T13:33:14.574: Completed computing cell size ranges.\",\"2023-10-21T13:33:14.603: Completed building boundary.\",\"2023-10-21T13:33:14.605: Defining overviews\",\"2023-10-21T13:33:14.605: Computing default overview pixel size\",\"2023-10-21T13:33:14.608: Defining overviews for pixel size: 0.125000000001\",\"2023-10-21T13:33:14.616: Identified 1 overview levels at cell sizes: { 0.125000000001 }\",\"2023-10-21T13:33:14.620: Loading raster datasets\",\"2023-10-21T13:33:14.627: Constructing overview items: region 1 of 1 at cell size 0.125000000001\",\"2023-10-21T13:33:14.628: Completed crawling 1 data source items. Added 1 mosaic dataset items.\",\"2023-10-21T13:33:14.631: Processing duplicate mosaic dataset items\",\"2023-10-21T13:33:14.633: Removed 0 duplicate mosaic dataset items.\",\"2023-10-21T13:33:14.642: Synchronizing items associated with raster type instance &#39;Overview Instance 2&#39; [ID: 2].\",\"2023-10-21T13:33:14.657: Completed synchronization: 1 items selected, 1 items synchronized.\",\"2023-10-21T13:33:14.658: Completed defining overviews\",\"2023-10-21T13:33:14.658: Computing cell size levels\",\"2023-10-21T13:33:14.658: Computing unique cell size values\",\"2023-10-21T13:33:14.680: Computing maximum cell size values\",\"2023-10-21T13:33:14.685: Updating maximum cell size values\",\"2023-10-21T13:33:14.686: Computing minimum cell size values\",\"2023-10-21T13:33:14.690: Updating visibility values of selected items\",\"2023-10-21T13:33:14.694: Computing maximum cell size for mosaic dataset\",\"2023-10-21T13:33:14.713: Completed computing cell size ranges.\",\"2023-10-21T13:33:14.715: Marking stale and missing overview items\",\"2023-10-21T13:33:14.725: Overview items marked for generation: 0\",\"Succeeded at Saturday, October 21, 2023 1:33:16 PM (Elapsed Time: 9.45 seconds)\"]' data-show='true'><div id = 'default' /></div></div>"
      ],
      "text/plain": [
       "<Result 'C:\\\\Users\\\\15612\\\\Documents\\\\GIS-5571\\\\Lab2\\\\Lab2BIL.gdb\\\\PRISM_Mosaic'>"
      ]
     },
     "execution_count": 40,
     "metadata": {},
     "output_type": "execute_result"
    }
   ],
   "source": [
    "# Add the .tif files to the mosaic dataset\n",
    "arcpy.management.AddRastersToMosaicDataset(\n",
    "    r'C:\\Users\\15612\\Documents\\GIS-5571\\Lab2\\Lab2BIL.gdb\\PRISM_Mosaic',\n",
    "    'Raster Dataset',\n",
    "    tiff_file_list,\n",
    "    True,\n",
    "    True,\n",
    "    True,\n",
    "    -1,\n",
    "    None,\n",
    "    None,\n",
    "    spatial_ref,\n",
    "    None,\n",
    "    True,\n",
    "    'OVERWRITE_DUPLICATES',\n",
    "    True,\n",
    "    True,\n",
    "    True\n",
    ")"
   ]
  },
  {
   "cell_type": "code",
   "execution_count": 41,
   "metadata": {},
   "outputs": [
    {
     "data": {
      "text/html": [
       "<div class='gpresult'><h2>Messages</h2><div id='messages' data-messages='[\"Start Time: Saturday, October 21, 2023 1:33:16 PM\",\"Adding Variable to AMD_PRISM_Mosaic_CAT...\",\"Succeeded at Saturday, October 21, 2023 1:33:17 PM (Elapsed Time: 0.83 seconds)\"]' data-show='true'><div id = 'default' /></div></div>"
      ],
      "text/plain": [
       "<Result 'PRISM_Mosaic\\\\Footprint'>"
      ]
     },
     "execution_count": 41,
     "metadata": {},
     "output_type": "execute_result"
    }
   ],
   "source": [
    "# Create a field called \"Variable\" and add a value of \"PRISM\" for all the attributes\n",
    "arcpy.management.CalculateField(\n",
    "    r\"PRISM_Mosaic\\Footprint\",\n",
    "    \"Variable\",\n",
    "    \"'PRISM'\",\n",
    "    \"PYTHON3\"\n",
    ")"
   ]
  },
  {
   "cell_type": "code",
   "execution_count": 42,
   "metadata": {},
   "outputs": [],
   "source": [
    "# Remove excess rasters from the mosaic dataset\n",
    "for layer in layer_list_part13:\n",
    "    #print(layer.name)\n",
    "    if layer.name == 'PRISM_Mosaic':\n",
    "        arcpy.management.RemoveRastersFromMosaicDataset(\n",
    "            layer,\n",
    "            '''\n",
    "            OBJECTID >= 13\n",
    "            '''\n",
    "        )"
   ]
  },
  {
   "cell_type": "code",
   "execution_count": 43,
   "metadata": {},
   "outputs": [
    {
     "data": {
      "text/html": [
       "<div class='gpresult'><h2>Messages</h2><div id='messages' data-messages='[\"Start Time: Saturday, October 21, 2023 1:33:17 PM\",\"Adding Time to AMD_PRISM_Mosaic_CAT...\",\"Succeeded at Saturday, October 21, 2023 1:33:17 PM (Elapsed Time: 0.23 seconds)\"]' data-show='true'><div id = 'default' /></div></div>"
      ],
      "text/plain": [
       "<Result 'PRISM_Mosaic\\\\Footprint'>"
      ]
     },
     "execution_count": 43,
     "metadata": {},
     "output_type": "execute_result"
    }
   ],
   "source": [
    "# Add a field named \"Time\" and make the field type \"Date\"\n",
    "arcpy.management.AddField(\n",
    "    r\"PRISM_Mosaic\\Footprint\",\n",
    "    \"Time\",\n",
    "    \"Date\"\n",
    ")"
   ]
  },
  {
   "cell_type": "code",
   "execution_count": 44,
   "metadata": {
    "scrolled": true
   },
   "outputs": [
    {
     "data": {
      "text/html": [
       "<div class='gpresult'><h2>Messages</h2><div id='messages' data-messages='[\"Start Time: Saturday, October 21, 2023 1:33:17 PM\",\"Succeeded at Saturday, October 21, 2023 1:33:17 PM (Elapsed Time: 0.10 seconds)\"]' data-show='true'><div id = 'default' /></div></div>"
      ],
      "text/plain": [
       "<Result 'PRISM_Mosaic\\\\Footprint'>"
      ]
     },
     "execution_count": 44,
     "metadata": {},
     "output_type": "execute_result"
    }
   ],
   "source": [
    "# Make each attribute within the newly created \"Time\" field equal to the number representing each month to create a date for each raster\n",
    "arcpy.management.CalculateField(\n",
    "    r\"PRISM_Mosaic\\Footprint\",\n",
    "    \"Time\",\n",
    "    '''\n",
    "    var objID = $feature.OBJECTID\n",
    "    \n",
    "    var month = objID - 1\n",
    "    \n",
    "    var date = Date(2020,month,1)\n",
    "    \n",
    "    return date\n",
    "    ''',\n",
    "    'ARCADE'\n",
    ")"
   ]
  },
  {
   "cell_type": "code",
   "execution_count": 48,
   "metadata": {},
   "outputs": [
    {
     "data": {
      "text/html": [
       "<div class='gpresult'><h2>Messages</h2><div id='messages' data-messages='[\"Start Time: Saturday, October 21, 2023 1:36:39 PM\",\"Succeeded at Saturday, October 21, 2023 1:36:40 PM (Elapsed Time: 1.30 seconds)\"]' data-show='true'><div id = 'default' /></div></div>"
      ],
      "text/plain": [
       "<Result 'C:\\\\Users\\\\15612\\\\Documents\\\\GIS-5571\\\\Lab2\\\\Lab2BIL.gdb\\\\PRISM_Mosaic'>"
      ]
     },
     "execution_count": 48,
     "metadata": {},
     "output_type": "execute_result"
    }
   ],
   "source": [
    "# Build the multidimensional info using the \"Variable\" and \"Time\" fields\n",
    "mosaic_path = r'C:\\Users\\15612\\Documents\\GIS-5571\\Lab2\\Lab2BIL.gdb\\PRISM_Mosaic'\n",
    "arcpy.management.BuildMultidimensionalInfo(\n",
    "    mosaic_path,\n",
    "    \"Variable \",\n",
    "    \"Time # #\"\n",
    ")"
   ]
  },
  {
   "cell_type": "code",
   "execution_count": 49,
   "metadata": {},
   "outputs": [
    {
     "data": {
      "text/html": [
       "<div class='gpresult'><h2>Messages</h2><div id='messages' data-messages='[\"Start Time: Saturday, October 21, 2023 1:37:02 PM\",\"Succeeded at Saturday, October 21, 2023 1:37:02 PM (Elapsed Time: 0.54 seconds)\"]' data-show='true'><div id = 'default' /></div></div>"
      ],
      "text/plain": [
       "<Result 'prism_precip'>"
      ]
     },
     "execution_count": 49,
     "metadata": {},
     "output_type": "execute_result"
    }
   ],
   "source": [
    "# Make the multidimensional raster layer\n",
    "arcpy.md.MakeMultidimensionalRasterLayer(\n",
    "    \"PRISM_Mosaic\",\n",
    "    \"prism_precip\",\n",
    "    \"'Variable '\",\n",
    "    \"ALL\"\n",
    ")"
   ]
  },
  {
   "cell_type": "code",
   "execution_count": 50,
   "metadata": {},
   "outputs": [],
   "source": [
    "# Set a variable equal to the Multidimensional Raster Layer\n",
    "for layer in m.listLayers():\n",
    "    if layer.name == 'prism_precip':\n",
    "        #print(layer)\n",
    "        precip_info = layer"
   ]
  },
  {
   "cell_type": "code",
   "execution_count": 51,
   "metadata": {},
   "outputs": [
    {
     "data": {
      "text/html": [
       "<div class='gpresult'><h2>Messages</h2><div id='messages' data-messages='[\"Start Time: Saturday, October 21, 2023 1:37:28 PM\",\"WARNING 110290: This tool requires projected data to accurately measure distances.  The Input Multidimensional Raster Layer will be projected to the WGS 1984 World Equidistant Cylindrical projection (WKID 4087).\",\"WARNING 110442: The Input Multidimensional Raster Layer contains irregular or missing time intervals.\",\"WARNING 110013: The default Time Step Interval is 29 days.\",\"WARNING 110067: Your spatial reference is not compatible with CF Conventions.  You may experience difficulties using the resulting space-time cube with other NetCDF tools and software.\",[{\"element\":\"table\",\"data\":[[{\"data\":\"Input feature time extent\",\"prop\":{\"rowspan\":2}},\"2020-01-01 06:00:00\"],[{\"data\":\"to 2021-01-01 06:00:00\",\"prop\":{\"text-align\":\"right\"}}],[\"\",\"\"],[\"Number of time steps\",\"13\"],[\"Time step interval\",\"29 days\"],[\"Time step alignment\",\"End\"],[\"\",\"\"],[\"First time step temporal bias\",\"100.00%\"],[{\"data\":\"First time step interval\",\"prop\":{\"rowspan\":4}},\"after\"],[{\"data\":\"2019-12-03 06:00:00\",\"prop\":{\"text-align\":\"right\"}}],[{\"data\":\"to on or before\",\"prop\":{\"text-align\":\"right\"}}],[{\"data\":\"2020-01-01 06:00:00\",\"prop\":{\"text-align\":\"right\"}}],[\"\",\"\"],[\"Last time step temporal bias\",\"0.00%\"],[{\"data\":\"Last time step interval\",\"prop\":{\"rowspan\":4}},\"after\"],[{\"data\":\"2020-12-01 06:00:00\",\"prop\":{\"text-align\":\"right\"}}],[{\"data\":\"to on or before\",\"prop\":{\"text-align\":\"right\"}}],[{\"data\":\"2021-01-01 06:00:00\",\"prop\":{\"text-align\":\"right\"}}],[\"\",\"\"],[\"Coordinate System\",\"WGS 1984 World Equidistant Cylindrical\"],[\"Cube extent across space\",\"(coordinates in meters)\"],[\"Min X\",\"-13894065.6611\"],[\"Min Y\",\"2708362.4448\"],[\"Max X\",\"-7451448.3421\"],[\"Max Y\",\"5478284.6852\"]],\"elementProps\":{\"striped\":\"true\",\"noHeader\":true,\"title\":\"Space Time Cube Characteristics\",\"0\":{\"align\":\"left\",\"pad\":\"0px\",\"wrap\":true},\"1\":{\"align\":\"right\",\"pad\":\"0px\",\"wrap\":true}}}],[{\"element\":\"table\",\"data\":[[\"Locations\",\"481631\"],[\"Total observations\",\"6261203\"]],\"elementProps\":{\"striped\":\"true\",\"noHeader\":true,\"0\":{\"align\":\"left\",\"pad\":\"0px\",\"wrap\":true},\"1\":{\"align\":\"right\",\"pad\":\"0px\",\"wrap\":true}}}],[{\"element\":\"table\",\"data\":[[\"Trend direction\",\"Not Significant\"],[\"Trend statistic\",\"0.6711\"],[\"Trend p-value\",\"0.5022\"]],\"elementProps\":{\"striped\":\"true\",\"noHeader\":true,\"title\":\"Overall Data Trend - VARIABLE__NONE_ZEROS\",\"0\":{\"align\":\"left\",\"pad\":\"0px\",\"wrap\":true},\"1\":{\"align\":\"right\",\"pad\":\"0px\",\"wrap\":true}}}],\"Succeeded at Saturday, October 21, 2023 1:42:39 PM (Elapsed Time: 5 minutes 10 seconds)\"]' data-show='true'><div id = 'default' /></div></div>"
      ],
      "text/plain": [
       "<Result 'C:\\\\Users\\\\15612\\\\Documents\\\\GIS-5571\\\\Lab2\\\\Lab 2 Part 13\\\\Space_Time_Cube.nc'>"
      ]
     },
     "execution_count": 51,
     "metadata": {},
     "output_type": "execute_result"
    }
   ],
   "source": [
    "# Create the spacetime cube\n",
    "arcpy.stpm.CreateSpaceTimeCubeMDRasterLayer(\n",
    "    precip_info, \n",
    "    'Space_Time_Cube', \n",
    "    'ZEROS'\n",
    ")"
   ]
  }
 ],
 "metadata": {
  "kernelspec": {
   "display_name": "ArcGISPro",
   "language": "Python",
   "name": "python3"
  },
  "language_info": {
   "file_extension": ".py",
   "name": "python",
   "version": "3"
  }
 },
 "nbformat": 4,
 "nbformat_minor": 2
}
