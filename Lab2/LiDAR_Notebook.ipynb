{
 "cells": [
  {
   "cell_type": "code",
   "execution_count": 1,
   "metadata": {},
   "outputs": [],
   "source": [
    "import requests"
   ]
  },
  {
   "cell_type": "code",
   "execution_count": 2,
   "metadata": {},
   "outputs": [],
   "source": [
    "# Acquire data from via API call and write data to a file\n",
    "las = requests.get(r'https://resources.gisdata.mn.gov/pub/data/elevation/lidar/examples/lidar_sample/las/4342-12-05.las')\n",
    "with open(r'C:\\Users\\15612\\Documents\\GIS-5571\\Lab2\\4342-12-05.las', 'wb') as file:\n",
    "    file.write(las.content)"
   ]
  },
  {
   "cell_type": "code",
   "execution_count": 5,
   "metadata": {},
   "outputs": [],
   "source": [
    "# Establish a \"Map\" variable for adding data to ArcGIS Pro map\n",
    "project = arcpy.mp.ArcGISProject(\"CURRENT\")\n",
    "Map = project.listMaps('Map')[0]"
   ]
  },
  {
   "cell_type": "code",
   "execution_count": 6,
   "metadata": {},
   "outputs": [
    {
     "data": {
      "text/plain": [
       "<arcpy._mp.Layer object at 0x0000018756288AF0>"
      ]
     },
     "execution_count": 6,
     "metadata": {},
     "output_type": "execute_result"
    }
   ],
   "source": [
    "# Add data to ArcGIS Pro map\n",
    "Map.addDataFromPath(r\"C:\\Users\\15612\\Documents\\GIS-5571\\Lab2\\4342-12-05.las\")"
   ]
  },
  {
   "cell_type": "code",
   "execution_count": 24,
   "metadata": {
    "scrolled": true
   },
   "outputs": [
    {
     "data": {
      "text/html": [
       "<div class='gpresult'><h2>Messages</h2><div id='messages' data-messages='[\"Start Time: Tuesday, October 17, 2023 12:14:06 PM\",\"Succeeded at Tuesday, October 17, 2023 12:14:07 PM (Elapsed Time: 0.69 seconds)\"]' data-show='true'><div id = 'default' /></div></div>"
      ],
      "text/plain": [
       "<Result 'C:\\\\Users\\\\15612\\\\Documents\\\\GIS-5571\\\\Lab2\\\\Example_DEM.tif'>"
      ]
     },
     "execution_count": 24,
     "metadata": {},
     "output_type": "execute_result"
    }
   ],
   "source": [
    "# Convert point cloud LiDAR data to a raster in TIFF format\n",
    "arcpy.conversion.LasDatasetToRaster(\n",
    "    '4342-12-05.las',\n",
    "    r'C:\\Users\\15612\\Documents\\GIS-5571\\Lab2\\Example_DEM.tif'\n",
    ")"
   ]
  },
  {
   "cell_type": "code",
   "execution_count": 25,
   "metadata": {},
   "outputs": [
    {
     "data": {
      "text/html": [
       "<div class='gpresult'><h2>Messages</h2><div id='messages' data-messages='[\"Start Time: Tuesday, October 17, 2023 12:14:52 PM\",\"Succeeded at Tuesday, October 17, 2023 12:14:53 PM (Elapsed Time: 0.33 seconds)\"]' data-show='true'><div id = 'default' /></div></div>"
      ],
      "text/plain": [
       "<Result 'C:\\\\Users\\\\15612\\\\Documents\\\\GIS-5571\\\\Lab2\\\\Example_TIN.tif'>"
      ]
     },
     "execution_count": 25,
     "metadata": {},
     "output_type": "execute_result"
    }
   ],
   "source": [
    "# Create a TIN from the DEM created in the previous cell\n",
    "arcpy.ddd.RasterTin(\n",
    "    \"Example_DEM\", \n",
    "    r'C:\\Users\\15612\\Documents\\GIS-5571\\Lab2\\Example_TIN.tif'\n",
    ")"
   ]
  },
  {
   "cell_type": "code",
   "execution_count": 11,
   "metadata": {},
   "outputs": [
    {
     "name": "stdout",
     "output_type": "stream",
     "text": [
      "<arcpy._mp.Layout object at 0x0000021C8BA19C10>\n"
     ]
    }
   ],
   "source": [
    "# Make variable representing the opened layout panel\n",
    "layout = project.listLayouts()[0]\n",
    "print(layout)"
   ]
  },
  {
   "cell_type": "code",
   "execution_count": 12,
   "metadata": {},
   "outputs": [
    {
     "data": {
      "text/plain": [
       "'C:\\\\Users\\\\15612\\\\Documents\\\\GIS-5571\\\\Lab2\\\\Example_DEM.pdf'"
      ]
     },
     "execution_count": 12,
     "metadata": {},
     "output_type": "execute_result"
    }
   ],
   "source": [
    "# Create for loop which turns the Example_DEM on and the Example_TIN off\n",
    "layer_list = Map.listLayers()\n",
    "for layer in layer_list:\n",
    "    if layer.name != 'Example_DEM.tif':\n",
    "        layer.visible = False\n",
    "    elif layer.name == 'Example_DEM.tif':\n",
    "        layer.visible = True\n",
    "\n",
    "# Export the layout to a PDF document\n",
    "layout.exportToPDF(r'C:\\Users\\15612\\Documents\\GIS-5571\\Lab2\\Example_DEM.pdf')"
   ]
  },
  {
   "cell_type": "code",
   "execution_count": 13,
   "metadata": {},
   "outputs": [
    {
     "data": {
      "text/plain": [
       "'C:\\\\Users\\\\15612\\\\Documents\\\\GIS-5571\\\\Lab2\\\\Example_TIN.pdf'"
      ]
     },
     "execution_count": 13,
     "metadata": {},
     "output_type": "execute_result"
    }
   ],
   "source": [
    "# Create for loop which turns the Example_TIN on and the Example_DEM off\n",
    "for layer in layer_list:\n",
    "    if layer.name != 'Example_TIN.tif':\n",
    "        layer.visible = False\n",
    "    elif layer.name == 'Example_TIN.tif':\n",
    "        layer.visible = True\n",
    "\n",
    "# Export the layout to a PDF document\n",
    "layout.exportToPDF(r'C:\\Users\\15612\\Documents\\GIS-5571\\Lab2\\Example_TIN.pdf')"
   ]
  },
  {
   "cell_type": "code",
   "execution_count": 15,
   "metadata": {},
   "outputs": [],
   "source": [
    "# Turn the Example_DEM layer back on\n",
    "for layer in layer_list:\n",
    "    if layer.name == 'Example_DEM.tif':\n",
    "        layer.visible = True "
   ]
  },
  {
   "cell_type": "code",
   "execution_count": 21,
   "metadata": {},
   "outputs": [
    {
     "data": {
      "text/html": [
       "<div class='gpresult'><h2>Messages</h2><div id='messages' data-messages='[\"Start Time: Wednesday, October 18, 2023 11:50:19 AM\",\"Information : Estimated voxel size 12.104285 m\",\"Information : Pass1 file 4342-12-05.las [1/1]\",\"Information : Pass2 file 4342-12-05.las [1/1]\",\"Information : Success\",\"Succeeded at Wednesday, October 18, 2023 11:50:38 AM (Elapsed Time: 19.20 seconds)\"]' data-show='true'><div id = 'default' /></div></div>"
      ],
      "text/plain": [
       "<Result 'C:\\\\Users\\\\15612\\\\Documents\\\\GIS-5571\\\\Lab2\\\\Lab_2_Scene_LAS.slpk'>"
      ]
     },
     "execution_count": 21,
     "metadata": {},
     "output_type": "execute_result"
    }
   ],
   "source": [
    "# Create a variable representing the gathered .las file\n",
    "las_data = r\"C:\\Users\\15612\\Documents\\GIS-5571\\Lab2\\4342-12-05.las\"\n",
    "\n",
    "# Create a scene layer package with the .las data to be used in ArcScene\n",
    "arcpy.management.CreatePointCloudSceneLayerPackage(\n",
    "    las_data,\n",
    "    r'C:\\Users\\15612\\Documents\\GIS-5571\\Lab2\\Lab_2_Scene_LAS.slpk'\n",
    ")"
   ]
  },
  {
   "cell_type": "code",
   "execution_count": 23,
   "metadata": {},
   "outputs": [
    {
     "data": {
      "text/html": [
       "<div class='gpresult'><h2>Messages</h2><div id='messages' data-messages='[\"Start Time: Wednesday, October 18, 2023 11:53:12 AM\",\"Succeeded at Wednesday, October 18, 2023 11:53:16 AM (Elapsed Time: 3.45 seconds)\"]' data-show='true'><div id = 'default' /></div></div>"
      ],
      "text/plain": [
       "<Result 'Lab_2_Scene_Layer'>"
      ]
     },
     "execution_count": 23,
     "metadata": {},
     "output_type": "execute_result"
    }
   ],
   "source": [
    "# Create a variable representing the scene layer package\n",
    "slpk_file = r\"C:\\Users\\15612\\Documents\\GIS-5571\\Lab2\\Lab_2_Scene_LAS.slpk\"\n",
    "\n",
    "# Make a scene layer to display the scene layer package in ArcScene\n",
    "arcpy.management.MakeSceneLayer(\n",
    "    slpk_file,\n",
    "    'Lab_2_Scene_Layer'\n",
    ")"
   ]
  }
 ],
 "metadata": {
  "kernelspec": {
   "display_name": "ArcGISPro",
   "language": "Python",
   "name": "python3"
  },
  "language_info": {
   "file_extension": ".py",
   "name": "python",
   "version": "3"
  }
 },
 "nbformat": 4,
 "nbformat_minor": 2
}
